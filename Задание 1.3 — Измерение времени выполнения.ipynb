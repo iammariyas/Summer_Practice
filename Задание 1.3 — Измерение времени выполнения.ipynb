{
  "nbformat": 4,
  "nbformat_minor": 0,
  "metadata": {
    "colab": {
      "provenance": [],
      "authorship_tag": "ABX9TyOX71iU8Zg56rdmMvuxO34p",
      "include_colab_link": true
    },
    "kernelspec": {
      "name": "python3",
      "display_name": "Python 3"
    },
    "language_info": {
      "name": "python"
    }
  },
  "cells": [
    {
      "cell_type": "markdown",
      "metadata": {
        "id": "view-in-github",
        "colab_type": "text"
      },
      "source": [
        "<a href=\"https://colab.research.google.com/github/iammariyas/Summer_Practice/blob/main/task_1_3.ipynb\" target=\"_parent\"><img src=\"https://colab.research.google.com/assets/colab-badge.svg\" alt=\"Open In Colab\"/></a>"
      ]
    },
    {
      "cell_type": "markdown",
      "source": [
        "# Задание 1.3 — Измерение времени выполнения"
      ],
      "metadata": {
        "id": "aur5Dfk249R5"
      }
    },
    {
      "cell_type": "markdown",
      "source": [
        "## 1. Сравните время выполнения алгоритмов на различных размерах входных данных:"
      ],
      "metadata": {
        "id": "xoIFwy935G4N"
      }
    },
    {
      "cell_type": "markdown",
      "source": [
        " *   проверка на простоту перебором до $ N, N // 2 $ и до $√N$"
      ],
      "metadata": {
        "id": "-K120QCy5bGg"
      }
    },
    {
      "cell_type": "code",
      "execution_count": null,
      "metadata": {
        "id": "ubY6gbPd42nz"
      },
      "outputs": [],
      "source": [
        "def is_prime_n(n):\n",
        "  if n < 2:\n",
        "    return False\n",
        "  for d in range(2, n + 1):\n",
        "    if n % d == 0:\n",
        "      return False\n",
        "  return True"
      ]
    },
    {
      "cell_type": "code",
      "source": [
        "def is_prime_n_div2(n):\n",
        "    if n < 2:\n",
        "        return False\n",
        "    for d in range(2, (n // 2) + 1 ):\n",
        "        if n % d == 0:\n",
        "            return False\n",
        "    return True"
      ],
      "metadata": {
        "id": "j5_pPyelA6Pb"
      },
      "execution_count": null,
      "outputs": []
    },
    {
      "cell_type": "code",
      "source": [
        "def is_prime_n_sqrt(n):\n",
        "    if n < 2:\n",
        "      return False\n",
        "    for d in range(2, round(n ** 0.5) + 1):\n",
        "      if n % d == 0:\n",
        "        return False\n",
        "    return True"
      ],
      "metadata": {
        "id": "89p1Np8iFt9B"
      },
      "execution_count": null,
      "outputs": []
    },
    {
      "cell_type": "markdown",
      "source": [
        "Рассмотрим время выполнения проверки на простоту перебором до $N$:"
      ],
      "metadata": {
        "id": "m0TyGKUmqvYg"
      }
    },
    {
      "cell_type": "code",
      "source": [
        "%timeit is_prime_n(7)"
      ],
      "metadata": {
        "colab": {
          "base_uri": "https://localhost:8080/"
        },
        "id": "n7vcHi-xoefE",
        "outputId": "5c3b3ccf-0882-41de-f8be-ab4ed9bcbddd"
      },
      "execution_count": null,
      "outputs": [
        {
          "output_type": "stream",
          "name": "stdout",
          "text": [
            "438 ns ± 10.4 ns per loop (mean ± std. dev. of 7 runs, 1000000 loops each)\n"
          ]
        }
      ]
    },
    {
      "cell_type": "code",
      "source": [
        "%timeit is_prime_n(10007)"
      ],
      "metadata": {
        "colab": {
          "base_uri": "https://localhost:8080/"
        },
        "id": "5fl6vpF2qRlv",
        "outputId": "4e09e287-2e5a-4b44-edb8-0e0c791c78be"
      },
      "execution_count": null,
      "outputs": [
        {
          "output_type": "stream",
          "name": "stdout",
          "text": [
            "729 µs ± 226 µs per loop (mean ± std. dev. of 7 runs, 1000 loops each)\n"
          ]
        }
      ]
    },
    {
      "cell_type": "code",
      "source": [
        "%timeit is_prime_n(1000003)"
      ],
      "metadata": {
        "colab": {
          "base_uri": "https://localhost:8080/"
        },
        "id": "W9tlPezera_U",
        "outputId": "3ab615d9-5abd-4b51-a6dd-3c7c3a88917c"
      },
      "execution_count": null,
      "outputs": [
        {
          "output_type": "stream",
          "name": "stdout",
          "text": [
            "60.9 ms ± 1.44 ms per loop (mean ± std. dev. of 7 runs, 10 loops each)\n"
          ]
        }
      ]
    },
    {
      "cell_type": "code",
      "source": [
        "%timeit is_prime_n(10000019)"
      ],
      "metadata": {
        "colab": {
          "base_uri": "https://localhost:8080/"
        },
        "id": "rI1ZReP3qo2N",
        "outputId": "9a6abb0b-1751-4e18-f313-db833fd23ede"
      },
      "execution_count": null,
      "outputs": [
        {
          "output_type": "stream",
          "name": "stdout",
          "text": [
            "608 ms ± 11.4 ms per loop (mean ± std. dev. of 7 runs, 1 loop each)\n"
          ]
        }
      ]
    },
    {
      "cell_type": "markdown",
      "source": [
        "Рассмотрим время выполнения проверки на простоту перебором до $N // 2$:"
      ],
      "metadata": {
        "id": "YiM4FBv3rAK_"
      }
    },
    {
      "cell_type": "code",
      "source": [
        "%timeit is_prime_n_div2(7)"
      ],
      "metadata": {
        "colab": {
          "base_uri": "https://localhost:8080/"
        },
        "id": "a1veALhirfLl",
        "outputId": "b6e66c8b-e940-462f-bc69-1e9da2bf024c"
      },
      "execution_count": null,
      "outputs": [
        {
          "output_type": "stream",
          "name": "stdout",
          "text": [
            "480 ns ± 93.6 ns per loop (mean ± std. dev. of 7 runs, 1000000 loops each)\n"
          ]
        }
      ]
    },
    {
      "cell_type": "code",
      "source": [
        "%timeit is_prime_n_div2(10007)"
      ],
      "metadata": {
        "colab": {
          "base_uri": "https://localhost:8080/"
        },
        "id": "cpfX3MARrpRj",
        "outputId": "049ee2b1-3f4b-4c53-8e01-708426148ae7"
      },
      "execution_count": null,
      "outputs": [
        {
          "output_type": "stream",
          "name": "stdout",
          "text": [
            "287 µs ± 12.2 µs per loop (mean ± std. dev. of 7 runs, 1000 loops each)\n"
          ]
        }
      ]
    },
    {
      "cell_type": "code",
      "source": [
        "%timeit is_prime_n_div2(1000003)"
      ],
      "metadata": {
        "colab": {
          "base_uri": "https://localhost:8080/"
        },
        "id": "YHrLGJhSrp93",
        "outputId": "f454b343-adca-4511-8fbf-5dacd82d3254"
      },
      "execution_count": null,
      "outputs": [
        {
          "output_type": "stream",
          "name": "stdout",
          "text": [
            "30.6 ms ± 1.75 ms per loop (mean ± std. dev. of 7 runs, 10 loops each)\n"
          ]
        }
      ]
    },
    {
      "cell_type": "code",
      "source": [
        "%timeit is_prime_n_div2(10000019)"
      ],
      "metadata": {
        "colab": {
          "base_uri": "https://localhost:8080/"
        },
        "id": "93JEZjU4rrX9",
        "outputId": "8075a646-9a6f-4171-fb6b-cd15d46e7976"
      },
      "execution_count": null,
      "outputs": [
        {
          "output_type": "stream",
          "name": "stdout",
          "text": [
            "297 ms ± 8.63 ms per loop (mean ± std. dev. of 7 runs, 1 loop each)\n"
          ]
        }
      ]
    },
    {
      "cell_type": "markdown",
      "source": [
        "Рассмотрим время выполнения проверки на простоту перебором до $√N$:"
      ],
      "metadata": {
        "id": "ZO5kwpfCrw_e"
      }
    },
    {
      "cell_type": "code",
      "source": [
        "%timeit is_prime_n_sqrt(7)"
      ],
      "metadata": {
        "colab": {
          "base_uri": "https://localhost:8080/"
        },
        "id": "bsJziacXr5Nd",
        "outputId": "d71c54f9-f1a4-4b33-c6ec-174e89edfe82"
      },
      "execution_count": null,
      "outputs": [
        {
          "output_type": "stream",
          "name": "stdout",
          "text": [
            "651 ns ± 166 ns per loop (mean ± std. dev. of 7 runs, 1000000 loops each)\n"
          ]
        }
      ]
    },
    {
      "cell_type": "code",
      "source": [
        "%timeit is_prime_n_sqrt(10007)"
      ],
      "metadata": {
        "colab": {
          "base_uri": "https://localhost:8080/"
        },
        "id": "ArKKkoCyr5FY",
        "outputId": "de0012d2-4c3c-4358-c46e-8a95a8dfac72"
      },
      "execution_count": null,
      "outputs": [
        {
          "output_type": "stream",
          "name": "stdout",
          "text": [
            "4.39 µs ± 109 ns per loop (mean ± std. dev. of 7 runs, 100000 loops each)\n"
          ]
        }
      ]
    },
    {
      "cell_type": "code",
      "source": [
        "%timeit is_prime_n_sqrt(1000003)"
      ],
      "metadata": {
        "colab": {
          "base_uri": "https://localhost:8080/"
        },
        "id": "6tFsz3WSr49T",
        "outputId": "515fbeae-93e2-42f1-b26a-dfabd0e925bd"
      },
      "execution_count": null,
      "outputs": [
        {
          "output_type": "stream",
          "name": "stdout",
          "text": [
            "56.9 µs ± 657 ns per loop (mean ± std. dev. of 7 runs, 10000 loops each)\n"
          ]
        }
      ]
    },
    {
      "cell_type": "code",
      "source": [
        "%timeit is_prime_n_sqrt(10000019)"
      ],
      "metadata": {
        "colab": {
          "base_uri": "https://localhost:8080/"
        },
        "id": "osbss2E0r41f",
        "outputId": "4804ca48-8018-45fd-837f-57d466611efd"
      },
      "execution_count": null,
      "outputs": [
        {
          "output_type": "stream",
          "name": "stdout",
          "text": [
            "222 µs ± 36.7 µs per loop (mean ± std. dev. of 7 runs, 10000 loops each)\n"
          ]
        }
      ]
    },
    {
      "cell_type": "markdown",
      "source": [
        "Как мы можем заметить, самый быстрый алгоритм: перебор до $√N$.\n",
        "\n",
        "Все потому, что для любого числа проверяются делители только до квадратного корня, что значительно сокращает количество итераций."
      ],
      "metadata": {
        "id": "r41RdF_7sD7g"
      }
    },
    {
      "cell_type": "markdown",
      "source": [
        "На втором месте стоит перебор до $N // 2$."
      ],
      "metadata": {
        "id": "5R2tzHVcszIA"
      }
    },
    {
      "cell_type": "markdown",
      "source": [
        "А самый медленный — перебор до $N$. Мы можем увидеть колоссальную разницу по сравнению с самой быстрой функцией — перебор до $√N$ на больших числах.\n",
        "\n",
        "Так, время выполнения функции `is_prime_n_sqrt` и `is_prime_n` при $n = 10000019$ отличается примерно в 1452 раза."
      ],
      "metadata": {
        "id": "5Dkbx6w7s_Tg"
      }
    },
    {
      "cell_type": "markdown",
      "source": [
        "\n",
        "\n",
        "---\n",
        "\n"
      ],
      "metadata": {
        "id": "YdD7xVbwt-uC"
      }
    },
    {
      "cell_type": "markdown",
      "source": [
        "* поиск элемента в списке и во множестве"
      ],
      "metadata": {
        "id": "h3nHcmKwW3gH"
      }
    },
    {
      "cell_type": "code",
      "source": [
        "data = [x for x in range(10_000)]\n",
        "data_set = {x for x in range(10_000)}"
      ],
      "metadata": {
        "id": "oU8O2QGKwNOg"
      },
      "execution_count": null,
      "outputs": []
    },
    {
      "cell_type": "code",
      "source": [
        "%%timeit\n",
        "for x in data:\n",
        "    if x in data:\n",
        "        pass"
      ],
      "metadata": {
        "colab": {
          "base_uri": "https://localhost:8080/"
        },
        "id": "Z1BCDOh-wM78",
        "outputId": "cd05ee48-36f2-475e-9d7c-6f9e0baa1050"
      },
      "execution_count": null,
      "outputs": [
        {
          "output_type": "stream",
          "name": "stdout",
          "text": [
            "615 ms ± 5.32 ms per loop (mean ± std. dev. of 7 runs, 1 loop each)\n"
          ]
        }
      ]
    },
    {
      "cell_type": "code",
      "source": [
        "%%timeit\n",
        "for x in data_set:\n",
        "    if x in data_set:\n",
        "        pass"
      ],
      "metadata": {
        "colab": {
          "base_uri": "https://localhost:8080/"
        },
        "id": "11PZZUHewW_T",
        "outputId": "fc4a3cf4-0cf1-4e59-e883-8296c4a3d37c"
      },
      "execution_count": null,
      "outputs": [
        {
          "output_type": "stream",
          "name": "stdout",
          "text": [
            "415 µs ± 87.6 µs per loop (mean ± std. dev. of 7 runs, 1000 loops each)\n"
          ]
        }
      ]
    },
    {
      "cell_type": "markdown",
      "source": [
        "Как мы можем заметить, поиск элементов во множестве быстрее в 1482 раза"
      ],
      "metadata": {
        "id": "MMWTb7Hdwbh1"
      }
    },
    {
      "cell_type": "markdown",
      "source": [
        "* ответ на запросы о количестве вхождений элементов в список или букв в строку с помощью вызова метода count и с использованием Counter'а"
      ],
      "metadata": {
        "id": "8HMjv2amcNMa"
      }
    },
    {
      "cell_type": "markdown",
      "source": [
        "Рассмотрим количество вхождений элементов в список с помощью `count`:"
      ],
      "metadata": {
        "id": "OH8oXVdCnxly"
      }
    },
    {
      "cell_type": "code",
      "source": [
        "lst = [1, 2, 3] * 1000000"
      ],
      "metadata": {
        "id": "XMQqjIqTu--E"
      },
      "execution_count": null,
      "outputs": []
    },
    {
      "cell_type": "code",
      "source": [
        "%timeit lst.count(1)"
      ],
      "metadata": {
        "colab": {
          "base_uri": "https://localhost:8080/"
        },
        "id": "e1zDPBs7y5Rq",
        "outputId": "baadbc21-5248-4a9b-aa92-4a6002a33bdc"
      },
      "execution_count": null,
      "outputs": [
        {
          "output_type": "stream",
          "name": "stdout",
          "text": [
            "40 ms ± 11.3 ms per loop (mean ± std. dev. of 7 runs, 10 loops each)\n"
          ]
        }
      ]
    },
    {
      "cell_type": "code",
      "source": [
        "%timeit lst.count(2)"
      ],
      "metadata": {
        "colab": {
          "base_uri": "https://localhost:8080/"
        },
        "id": "AOK23C6Fy5I8",
        "outputId": "6b716e09-a14d-4c48-d60e-c04225f1d607"
      },
      "execution_count": null,
      "outputs": [
        {
          "output_type": "stream",
          "name": "stdout",
          "text": [
            "33 ms ± 937 µs per loop (mean ± std. dev. of 7 runs, 10 loops each)\n"
          ]
        }
      ]
    },
    {
      "cell_type": "code",
      "source": [
        "%timeit lst.count(3)"
      ],
      "metadata": {
        "colab": {
          "base_uri": "https://localhost:8080/"
        },
        "id": "RvZ3JohfydPV",
        "outputId": "fa248c85-82b2-497d-99d3-29af491e3f44"
      },
      "execution_count": null,
      "outputs": [
        {
          "output_type": "stream",
          "name": "stdout",
          "text": [
            "39 ms ± 9.74 ms per loop (mean ± std. dev. of 7 runs, 10 loops each)\n"
          ]
        }
      ]
    },
    {
      "cell_type": "markdown",
      "source": [
        "Рассмотрим количество вхождений элемента в список `Counter'а`:"
      ],
      "metadata": {
        "id": "QW4-PrzNzFof"
      }
    },
    {
      "cell_type": "code",
      "source": [
        "from collections import Counter"
      ],
      "metadata": {
        "id": "KW1oVrCenR1U"
      },
      "execution_count": null,
      "outputs": []
    },
    {
      "cell_type": "code",
      "source": [
        "cnt_lst = Counter(lst)"
      ],
      "metadata": {
        "id": "6XbScG76zaIq"
      },
      "execution_count": null,
      "outputs": []
    },
    {
      "cell_type": "code",
      "source": [
        "%timeit cnt_lst[1]"
      ],
      "metadata": {
        "colab": {
          "base_uri": "https://localhost:8080/"
        },
        "id": "M6gvxw9y0S_r",
        "outputId": "907896b1-6aa8-4677-e51a-c78281e6735a"
      },
      "execution_count": null,
      "outputs": [
        {
          "output_type": "stream",
          "name": "stdout",
          "text": [
            "54.4 ns ± 0.81 ns per loop (mean ± std. dev. of 7 runs, 10000000 loops each)\n"
          ]
        }
      ]
    },
    {
      "cell_type": "code",
      "source": [
        "%timeit cnt_lst[2]"
      ],
      "metadata": {
        "colab": {
          "base_uri": "https://localhost:8080/"
        },
        "id": "kRAU6Q9Ozs2S",
        "outputId": "78a5ed5a-449a-48ee-cb75-cddd14129867"
      },
      "execution_count": null,
      "outputs": [
        {
          "output_type": "stream",
          "name": "stdout",
          "text": [
            "54.1 ns ± 1.27 ns per loop (mean ± std. dev. of 7 runs, 10000000 loops each)\n"
          ]
        }
      ]
    },
    {
      "cell_type": "code",
      "source": [
        "%timeit cnt_lst[3]"
      ],
      "metadata": {
        "colab": {
          "base_uri": "https://localhost:8080/"
        },
        "id": "AeTpRAQK0Sx5",
        "outputId": "ffc58982-cfad-4ef1-be26-96ab196f41b3"
      },
      "execution_count": null,
      "outputs": [
        {
          "output_type": "stream",
          "name": "stdout",
          "text": [
            "54.4 ns ± 1.49 ns per loop (mean ± std. dev. of 7 runs, 10000000 loops each)\n"
          ]
        }
      ]
    },
    {
      "cell_type": "markdown",
      "source": [
        "`Counter` быстрее примерно в 716 176 раз."
      ],
      "metadata": {
        "id": "SlC-YNhSzbMB"
      }
    },
    {
      "cell_type": "markdown",
      "source": [
        "* квадратичная сортировка, быстрая сортировка, встроенная сортировка на числах"
      ],
      "metadata": {
        "id": "WWNEp4KS1G0M"
      }
    },
    {
      "cell_type": "markdown",
      "source": [
        "Для квадратичной сортировки возьмем сортировку пузырьком:"
      ],
      "metadata": {
        "id": "u0gL5ut61ZZn"
      }
    },
    {
      "cell_type": "code",
      "source": [
        "from random import randint"
      ],
      "metadata": {
        "id": "1n7Xru542eHG"
      },
      "execution_count": null,
      "outputs": []
    },
    {
      "cell_type": "code",
      "source": [
        "array = [randint(1, 99) for n in range(10000)]"
      ],
      "metadata": {
        "id": "6vfDV7_42XHZ"
      },
      "execution_count": null,
      "outputs": []
    },
    {
      "cell_type": "code",
      "source": [
        "def bubble(a):\n",
        "  n = len(a)\n",
        "  for i in range(n - 1):\n",
        "    for j in range(i + 1, 0, -1):\n",
        "      if a[j] < a[j - 1]:\n",
        "        temp = a[j]\n",
        "        a[j] = a[j - 1]\n",
        "        a[j - 1] = temp"
      ],
      "metadata": {
        "id": "RKdj45nh1gR7"
      },
      "execution_count": null,
      "outputs": []
    },
    {
      "cell_type": "code",
      "source": [
        "%timeit bubble(array)"
      ],
      "metadata": {
        "colab": {
          "base_uri": "https://localhost:8080/"
        },
        "id": "Li5xtLQr2j0Q",
        "outputId": "bedec44d-6ca5-4716-a52e-e35bf1eb71c8"
      },
      "execution_count": null,
      "outputs": [
        {
          "output_type": "stream",
          "name": "stdout",
          "text": [
            "3.75 s ± 546 ms per loop (mean ± std. dev. of 7 runs, 1 loop each)\n"
          ]
        }
      ]
    },
    {
      "cell_type": "markdown",
      "source": [
        "Рассмотрим время выполнения быстрой сортировки:"
      ],
      "metadata": {
        "id": "800JXKbO2sE_"
      }
    },
    {
      "cell_type": "code",
      "source": [
        "def quicksort(a, i, j):\n",
        "    if i >= j:\n",
        "      return\n",
        "    pivotindex = findpivot(a, i, j)\n",
        "    pivot = a[pivotindex]\n",
        "    a[pivotindex], a[j] = a[j], a[pivotindex]\n",
        "    k = partition(a, i, j, pivot)\n",
        "    a[k], a[j] = a[j], a[k]\n",
        "    quicksort(a, i, k - 1)\n",
        "    quicksort(a, k + 1, j)\n",
        "\n",
        "\n",
        "def findpivot(a, i, j):\n",
        "    firstkey = a[i]\n",
        "    for k in range(i + 1, j + 1):\n",
        "        if a[k] > firstkey:\n",
        "            return k\n",
        "        elif a[k] < firstkey:\n",
        "            return i\n",
        "    return i\n",
        "\n",
        "\n",
        "def partition(a, i, j, pivot):\n",
        "    l = i\n",
        "    r = j - 1\n",
        "    while l <= r:\n",
        "        while a[l] < pivot:\n",
        "            l += 1\n",
        "        while r >= 0 and a[r] >= pivot:\n",
        "            r -= 1\n",
        "        if l < r:\n",
        "            temp = a[r]\n",
        "            a[r] = a[l]\n",
        "            a[l] = temp\n",
        "    return l"
      ],
      "metadata": {
        "id": "7ac6HMTB2wuv"
      },
      "execution_count": null,
      "outputs": []
    },
    {
      "cell_type": "code",
      "source": [
        "%timeit quicksort(array, 0, len(array) - 1)"
      ],
      "metadata": {
        "colab": {
          "base_uri": "https://localhost:8080/"
        },
        "id": "glQ8PjV922qB",
        "outputId": "211a052e-5734-402e-dbfc-11a4289d0f6b"
      },
      "execution_count": null,
      "outputs": [
        {
          "output_type": "stream",
          "name": "stdout",
          "text": [
            "123 ms ± 3.83 ms per loop (mean ± std. dev. of 7 runs, 10 loops each)\n"
          ]
        }
      ]
    },
    {
      "cell_type": "markdown",
      "source": [
        "Теперь посмотрим встроенную сортировку на числах:"
      ],
      "metadata": {
        "id": "56eqEtDf3Zo1"
      }
    },
    {
      "cell_type": "code",
      "source": [
        "%timeit sorted(array)"
      ],
      "metadata": {
        "colab": {
          "base_uri": "https://localhost:8080/"
        },
        "id": "HM8oh-r13gvo",
        "outputId": "a44716b9-1445-473c-8dfc-5a84f353f0d3"
      },
      "execution_count": null,
      "outputs": [
        {
          "output_type": "stream",
          "name": "stdout",
          "text": [
            "124 µs ± 22 µs per loop (mean ± std. dev. of 7 runs, 10000 loops each)\n"
          ]
        }
      ]
    },
    {
      "cell_type": "markdown",
      "source": [
        "Мы видим, что пузырьковая сортировка является самой медленной, она работает в 30.5 раз медленне, чем быстрая сортировка. А быстрая сортировка медленнее встроенной сортировки в 992 раза."
      ],
      "metadata": {
        "id": "tNh0mHFw7VoP"
      }
    },
    {
      "cell_type": "markdown",
      "source": [
        "* квадратичная сортировка, быстрая сортировка, встроенная сортировка на строках"
      ],
      "metadata": {
        "id": "hMXUX-Bo8YNn"
      }
    },
    {
      "cell_type": "code",
      "source": [
        "from string import ascii_letters\n",
        "from random import randint, choice"
      ],
      "metadata": {
        "id": "gROhTNNg8Zq0"
      },
      "execution_count": null,
      "outputs": []
    },
    {
      "cell_type": "code",
      "source": [
        "s = [''.join(choice(ascii_letters) for _ in range(randint(3, 6))) for _ in range(10000)]"
      ],
      "metadata": {
        "id": "6-oXvsSp8kt5"
      },
      "execution_count": null,
      "outputs": []
    },
    {
      "cell_type": "code",
      "source": [
        "%timeit bubble(s)"
      ],
      "metadata": {
        "colab": {
          "base_uri": "https://localhost:8080/"
        },
        "id": "i0XdIrC19IOm",
        "outputId": "78e13dcc-eced-4777-e52f-fba59087b260"
      },
      "execution_count": null,
      "outputs": [
        {
          "output_type": "stream",
          "name": "stdout",
          "text": [
            "5.05 s ± 513 ms per loop (mean ± std. dev. of 7 runs, 1 loop each)\n"
          ]
        }
      ]
    },
    {
      "cell_type": "code",
      "source": [
        "%timeit quicksort(s, 0, len(s) - 1)"
      ],
      "metadata": {
        "colab": {
          "base_uri": "https://localhost:8080/"
        },
        "id": "cP_ejmXG9NB2",
        "outputId": "87f7e002-f0c0-4d16-b7cd-e6edaa0d2949"
      },
      "execution_count": null,
      "outputs": [
        {
          "output_type": "stream",
          "name": "stdout",
          "text": [
            "2.67 s ± 458 ms per loop (mean ± std. dev. of 7 runs, 1 loop each)\n"
          ]
        }
      ]
    },
    {
      "cell_type": "code",
      "source": [
        "%timeit sorted(s)"
      ],
      "metadata": {
        "colab": {
          "base_uri": "https://localhost:8080/"
        },
        "id": "zbEukeoq9RQt",
        "outputId": "63a4465a-36a7-446b-fa78-9257d275bd07"
      },
      "execution_count": null,
      "outputs": [
        {
          "output_type": "stream",
          "name": "stdout",
          "text": [
            "175 µs ± 39.2 µs per loop (mean ± std. dev. of 7 runs, 10000 loops each)\n"
          ]
        }
      ]
    },
    {
      "cell_type": "markdown",
      "source": [
        "Мы видим, что самым быстрым является `sorted`, на втором месте `quicksort`, на третьем — `bubblesort`"
      ],
      "metadata": {
        "id": "A8nQF6ro-EAJ"
      }
    },
    {
      "cell_type": "markdown",
      "source": [
        "2. Проверьте экспериментально, подходит ли коллекция `list` как основа для абстрактных структур данных стек и очередь.\n",
        "\n",
        "  Для этого определите характер зависимости времени выполнения операций (добавления и извлечения элементов) от размера коллекции. Сравните с использованием коллекции `deque`."
      ],
      "metadata": {
        "id": "nqy6SusCAOKv"
      }
    },
    {
      "cell_type": "markdown",
      "source": [
        "Узнаем скорость добавления в стек с помощью списков"
      ],
      "metadata": {
        "id": "kliXGcfnB_M2"
      }
    },
    {
      "cell_type": "code",
      "source": [
        "num = 10000"
      ],
      "metadata": {
        "id": "wYp_jgsEEJ6L"
      },
      "execution_count": null,
      "outputs": []
    },
    {
      "cell_type": "code",
      "source": [
        "def lst_append(n):\n",
        "  lst = []\n",
        "  for i in range(n):\n",
        "    lst.append(i)"
      ],
      "metadata": {
        "id": "boYg-N79AYbu"
      },
      "execution_count": null,
      "outputs": []
    },
    {
      "cell_type": "code",
      "source": [
        "%timeit lst_append(num)"
      ],
      "metadata": {
        "colab": {
          "base_uri": "https://localhost:8080/"
        },
        "id": "5mfVddz_BlvC",
        "outputId": "8783e547-1ad3-494e-cef7-0f0ccea5b21f"
      },
      "execution_count": null,
      "outputs": [
        {
          "output_type": "stream",
          "name": "stdout",
          "text": [
            "430 µs ± 113 µs per loop (mean ± std. dev. of 7 runs, 1000 loops each)\n"
          ]
        }
      ]
    },
    {
      "cell_type": "markdown",
      "source": [
        "Теперь рассмотрим извлечение элементов в стеке на основе списков:"
      ],
      "metadata": {
        "id": "14-rO4GtCJQl"
      }
    },
    {
      "cell_type": "code",
      "source": [
        "def lst_pop(n):\n",
        "  lst = list(range(n))\n",
        "  for _ in range(n):\n",
        "    lst.pop()"
      ],
      "metadata": {
        "id": "L7ljxz8qBtAI"
      },
      "execution_count": null,
      "outputs": []
    },
    {
      "cell_type": "code",
      "source": [
        "%timeit lst_pop(num)"
      ],
      "metadata": {
        "colab": {
          "base_uri": "https://localhost:8080/"
        },
        "id": "68AIx_CAB5p2",
        "outputId": "3557cb8c-8754-4697-e030-35f6809d769b"
      },
      "execution_count": null,
      "outputs": [
        {
          "output_type": "stream",
          "name": "stdout",
          "text": [
            "528 µs ± 41 µs per loop (mean ± std. dev. of 7 runs, 1000 loops each)\n"
          ]
        }
      ]
    },
    {
      "cell_type": "markdown",
      "source": [
        "Посмотрим время выполнения добавления в стек с использованием коллекции `deque`:"
      ],
      "metadata": {
        "id": "Ge78PoFECUl7"
      }
    },
    {
      "cell_type": "code",
      "source": [
        "from collections import deque"
      ],
      "metadata": {
        "id": "-s8rXJtHC_Bt"
      },
      "execution_count": null,
      "outputs": []
    },
    {
      "cell_type": "code",
      "source": [
        "def append_stack(n):\n",
        "  stack = deque()\n",
        "  for i in range(n):\n",
        "    stack.append(i)"
      ],
      "metadata": {
        "id": "29HNfmAdCeJK"
      },
      "execution_count": null,
      "outputs": []
    },
    {
      "cell_type": "code",
      "source": [
        "%timeit append_stack(num)"
      ],
      "metadata": {
        "colab": {
          "base_uri": "https://localhost:8080/"
        },
        "id": "Uz_fE7F5DLkw",
        "outputId": "8edb019d-33a5-49bf-bec9-2f5d551ed699"
      },
      "execution_count": null,
      "outputs": [
        {
          "output_type": "stream",
          "name": "stdout",
          "text": [
            "428 µs ± 13.8 µs per loop (mean ± std. dev. of 7 runs, 1000 loops each)\n"
          ]
        }
      ]
    },
    {
      "cell_type": "markdown",
      "source": [
        "Посмотрим время выполнения извлечение элементов в стеке с использованием коллекции `deque`:"
      ],
      "metadata": {
        "id": "zRdge3qLDWaG"
      }
    },
    {
      "cell_type": "code",
      "source": [
        "def pop_stack(n):\n",
        "  stack = deque(range(n))\n",
        "  for _ in range(n):\n",
        "    stack.pop()"
      ],
      "metadata": {
        "id": "Il88R_PvDiV6"
      },
      "execution_count": null,
      "outputs": []
    },
    {
      "cell_type": "code",
      "source": [
        "%timeit pop_stack(num)"
      ],
      "metadata": {
        "colab": {
          "base_uri": "https://localhost:8080/"
        },
        "id": "IejdXfj7D-1F",
        "outputId": "edd2123e-c608-4fce-f956-02e92e76bef6"
      },
      "execution_count": null,
      "outputs": [
        {
          "output_type": "stream",
          "name": "stdout",
          "text": [
            "886 µs ± 445 µs per loop (mean ± std. dev. of 7 runs, 1000 loops each)\n"
          ]
        }
      ]
    },
    {
      "cell_type": "markdown",
      "source": [
        "Реализуем добавление элемента в очереди с помощью списка:"
      ],
      "metadata": {
        "id": "lyCMBLmWEcuY"
      }
    },
    {
      "cell_type": "code",
      "source": [
        "def queue_append(n):\n",
        "  queue = []\n",
        "  for i in range(n):\n",
        "    queue.append(i)"
      ],
      "metadata": {
        "id": "MKpU3H_GFDCp"
      },
      "execution_count": null,
      "outputs": []
    },
    {
      "cell_type": "code",
      "source": [
        "%timeit queue_append(num)"
      ],
      "metadata": {
        "colab": {
          "base_uri": "https://localhost:8080/"
        },
        "id": "Ez6bDmN4FPOh",
        "outputId": "5e3fc0c6-a0bf-4851-d1a0-372996668ff9"
      },
      "execution_count": null,
      "outputs": [
        {
          "output_type": "stream",
          "name": "stdout",
          "text": [
            "524 ms ± 61.7 ms per loop (mean ± std. dev. of 7 runs, 1 loop each)\n"
          ]
        }
      ]
    },
    {
      "cell_type": "markdown",
      "source": [
        "Теперь рассмотрим извлечение элементов в очереди с помощью списка:"
      ],
      "metadata": {
        "id": "78Z4IPdYFUvM"
      }
    },
    {
      "cell_type": "code",
      "source": [
        "def queue_pop(n):\n",
        "  queue = list(range(n))\n",
        "  for _ in range(n):\n",
        "    queue.pop(0)"
      ],
      "metadata": {
        "id": "JTe5o9t3FaOa"
      },
      "execution_count": null,
      "outputs": []
    },
    {
      "cell_type": "code",
      "source": [
        "%timeit queue_pop(num)"
      ],
      "metadata": {
        "colab": {
          "base_uri": "https://localhost:8080/"
        },
        "id": "yHImbcGrF363",
        "outputId": "9e07e205-e3cb-4471-b71b-834e0dd732b6"
      },
      "execution_count": null,
      "outputs": [
        {
          "output_type": "stream",
          "name": "stdout",
          "text": [
            "9.38 ms ± 303 µs per loop (mean ± std. dev. of 7 runs, 100 loops each)\n"
          ]
        }
      ]
    },
    {
      "cell_type": "markdown",
      "source": [
        "Теперь будем рассматривать добавление и извлечение элементов в очереди с помощью коллекции `deque`:"
      ],
      "metadata": {
        "id": "x1kAnAQUF9mA"
      }
    },
    {
      "cell_type": "code",
      "source": [
        "def queue_a(n):\n",
        "  queue = deque()\n",
        "  for i in range(n):\n",
        "    queue.append(i)"
      ],
      "metadata": {
        "id": "BTB0mKBPGIoz"
      },
      "execution_count": null,
      "outputs": []
    },
    {
      "cell_type": "code",
      "source": [
        "%timeit queue_a(num)"
      ],
      "metadata": {
        "colab": {
          "base_uri": "https://localhost:8080/"
        },
        "id": "w0th0JzrG5Hq",
        "outputId": "65adb9c3-e13d-4514-8399-e7bd62ae829b"
      },
      "execution_count": null,
      "outputs": [
        {
          "output_type": "stream",
          "name": "stdout",
          "text": [
            "487 µs ± 65.7 µs per loop (mean ± std. dev. of 7 runs, 1000 loops each)\n"
          ]
        }
      ]
    },
    {
      "cell_type": "code",
      "source": [
        "def queue_p(n):\n",
        "  queue = deque(range(n))\n",
        "  for _ in range(n):\n",
        "    queue.popleft()"
      ],
      "metadata": {
        "id": "ySbVMIZqG1I1"
      },
      "execution_count": null,
      "outputs": []
    },
    {
      "cell_type": "code",
      "source": [
        "%timeit queue_p(num)"
      ],
      "metadata": {
        "colab": {
          "base_uri": "https://localhost:8080/"
        },
        "id": "2vgKC3jBHWoN",
        "outputId": "75587a0e-8e96-406c-dbc2-fc69367c88ab"
      },
      "execution_count": null,
      "outputs": [
        {
          "output_type": "stream",
          "name": "stdout",
          "text": [
            "556 µs ± 11.8 µs per loop (mean ± std. dev. of 7 runs, 1000 loops each)\n"
          ]
        }
      ]
    },
    {
      "cell_type": "markdown",
      "source": [
        "Для стека и очереди имеем разные выводы:\n",
        "\n",
        "1. Для стека: разница `list` и `deque` незначительно. Можно использовать списки, если важна простота кода\n",
        "\n",
        "2. Для очереди: `list` работает гораздо медленнее, чем `deque`. Использовать списки для очереди максимально не эффективно."
      ],
      "metadata": {
        "id": "uALpzdgIHef9"
      }
    }
  ]
}
