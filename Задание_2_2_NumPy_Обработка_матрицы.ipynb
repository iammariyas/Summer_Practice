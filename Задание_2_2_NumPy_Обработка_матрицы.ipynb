{
  "nbformat": 4,
  "nbformat_minor": 0,
  "metadata": {
    "colab": {
      "provenance": [],
      "authorship_tag": "ABX9TyNFTcHwVn5HxPI8bJBMnNEf",
      "include_colab_link": true
    },
    "kernelspec": {
      "name": "python3",
      "display_name": "Python 3"
    },
    "language_info": {
      "name": "python"
    }
  },
  "cells": [
    {
      "cell_type": "markdown",
      "metadata": {
        "id": "view-in-github",
        "colab_type": "text"
      },
      "source": [
        "<a href=\"https://colab.research.google.com/github/iammariyas/Summer_Practice/blob/main/%D0%97%D0%B0%D0%B4%D0%B0%D0%BD%D0%B8%D0%B5_2_2_NumPy_%D0%9E%D0%B1%D1%80%D0%B0%D0%B1%D0%BE%D1%82%D0%BA%D0%B0_%D0%BC%D0%B0%D1%82%D1%80%D0%B8%D1%86%D1%8B.ipynb\" target=\"_parent\"><img src=\"https://colab.research.google.com/assets/colab-badge.svg\" alt=\"Open In Colab\"/></a>"
      ]
    },
    {
      "cell_type": "markdown",
      "source": [
        "# Задание 2.2 NumPy Обработка матрицы\n",
        "## Вариант 22"
      ],
      "metadata": {
        "id": "oLQjMS7ai3RM"
      }
    },
    {
      "cell_type": "markdown",
      "source": [
        "Выполнить обработку элементов прямоугольной матрицы $𝐴$, имеющей $𝑛$ строк и $𝑚$ столбцов. Найти наибольшее значение среди средних значений для каждой строки матрицы."
      ],
      "metadata": {
        "id": "iFBKpkAWzACn"
      }
    },
    {
      "cell_type": "code",
      "execution_count": null,
      "metadata": {
        "id": "SFqFWW8xyyqL"
      },
      "outputs": [],
      "source": [
        "import numpy as np"
      ]
    },
    {
      "cell_type": "code",
      "source": [
        "n, m = map(int, input().split())"
      ],
      "metadata": {
        "colab": {
          "base_uri": "https://localhost:8080/"
        },
        "id": "AJGPB8G0zZpB",
        "outputId": "f4cc3dc8-06dd-49ed-a6fe-a4c9c807660b"
      },
      "execution_count": null,
      "outputs": [
        {
          "name": "stdout",
          "output_type": "stream",
          "text": [
            "3 2\n"
          ]
        }
      ]
    },
    {
      "cell_type": "code",
      "source": [
        "A = np.random.randint(0, 1000, (n, m))\n",
        "A"
      ],
      "metadata": {
        "colab": {
          "base_uri": "https://localhost:8080/"
        },
        "id": "-nlIcj3Vzpdh",
        "outputId": "9f63ddd9-c8f1-45e5-9bdb-c876c11fb8c2"
      },
      "execution_count": null,
      "outputs": [
        {
          "output_type": "execute_result",
          "data": {
            "text/plain": [
              "array([[340, 597],\n",
              "       [930, 854],\n",
              "       [ 38, 928]])"
            ]
          },
          "metadata": {},
          "execution_count": 17
        }
      ]
    },
    {
      "cell_type": "code",
      "source": [
        "avrg = np.mean(A, axis=1)\n",
        "avrg"
      ],
      "metadata": {
        "colab": {
          "base_uri": "https://localhost:8080/"
        },
        "id": "Y7X8BK4s0Ile",
        "outputId": "f9660b82-18dd-4b2c-bdaa-3459bffc96ca"
      },
      "execution_count": null,
      "outputs": [
        {
          "output_type": "execute_result",
          "data": {
            "text/plain": [
              "array([468.5, 892. , 483. ])"
            ]
          },
          "metadata": {},
          "execution_count": 18
        }
      ]
    },
    {
      "cell_type": "code",
      "source": [
        "np.max(avrg)"
      ],
      "metadata": {
        "colab": {
          "base_uri": "https://localhost:8080/"
        },
        "id": "Ot7FVs0J00L5",
        "outputId": "ed7b55bd-e506-494c-e24c-351ebd786f72"
      },
      "execution_count": null,
      "outputs": [
        {
          "output_type": "execute_result",
          "data": {
            "text/plain": [
              "np.float64(892.0)"
            ]
          },
          "metadata": {},
          "execution_count": 19
        }
      ]
    }
  ]
}