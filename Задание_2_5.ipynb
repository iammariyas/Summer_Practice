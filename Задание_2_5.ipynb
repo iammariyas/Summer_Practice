{
  "nbformat": 4,
  "nbformat_minor": 0,
  "metadata": {
    "colab": {
      "provenance": [],
      "authorship_tag": "ABX9TyMggfZQQuDsCwqUn30+MR4g",
      "include_colab_link": true
    },
    "kernelspec": {
      "name": "python3",
      "display_name": "Python 3"
    },
    "language_info": {
      "name": "python"
    }
  },
  "cells": [
    {
      "cell_type": "markdown",
      "metadata": {
        "id": "view-in-github",
        "colab_type": "text"
      },
      "source": [
        "<a href=\"https://colab.research.google.com/github/iammariyas/Summer_Practice/blob/main/%D0%97%D0%B0%D0%B4%D0%B0%D0%BD%D0%B8%D0%B5_2_5.ipynb\" target=\"_parent\"><img src=\"https://colab.research.google.com/assets/colab-badge.svg\" alt=\"Open In Colab\"/></a>"
      ]
    },
    {
      "cell_type": "markdown",
      "source": [
        "# Задание 2.5 NumPy Сравнение эффективности"
      ],
      "metadata": {
        "id": "RvkjaXxWcKLu"
      }
    },
    {
      "cell_type": "markdown",
      "source": [
        "Вариант 20"
      ],
      "metadata": {
        "id": "7lLVcKqXcSD2"
      }
    },
    {
      "cell_type": "markdown",
      "source": [
        "Написать программу, реализующую алгоритм из индивидуального задания с использованием `list`, замерить время выполнения и сравнить с готовой реализацией алгоритма из библиотеки `NumPy`.\n",
        "\n",
        "Для более полного анализа проводить сравнения на разных размерностях входных данных. Например, для матриц можно взять три варианта реализации: $10 × 10$, $100 × 100$, $500 × 500$.\n",
        "\n",
        "(В зависимости от задания время выполнения алгоритма на больших размерностях может быть очень большим, в этом случае размерности можно уменьшить. И наоборот: при необходимости можно увеличить размерность или повторить действия несколько раз и усреднить результаты)"
      ],
      "metadata": {
        "id": "1Ahac8Pgcc75"
      }
    },
    {
      "cell_type": "markdown",
      "source": [
        "20. Найти наиболее часто встречающееся значение в матрице."
      ],
      "metadata": {
        "id": "cSEaP092cqYn"
      }
    },
    {
      "cell_type": "markdown",
      "source": [
        "Вычислим время выполнения индивидуального задания с использованием `list`:"
      ],
      "metadata": {
        "id": "o0ysNN8wGGfP"
      }
    },
    {
      "cell_type": "code",
      "source": [
        "import time\n",
        "from collections import Counter\n",
        "import random"
      ],
      "metadata": {
        "id": "LdqqiqNNdvut"
      },
      "execution_count": null,
      "outputs": []
    },
    {
      "cell_type": "code",
      "source": [
        "def most_value(matrix):\n",
        "  lst = []\n",
        "  for row in matrix:\n",
        "    lst.extend(row)\n",
        "\n",
        "  cnt = Counter(lst)\n",
        "  max_cnt = max(cnt.values())\n",
        "  repeat = [key for key, value in cnt.items() if value == max_cnt]\n",
        "  return repeat[0] if len(repeat) == 1 else repeat"
      ],
      "metadata": {
        "id": "RCfva_dtcRs4"
      },
      "execution_count": null,
      "outputs": []
    },
    {
      "cell_type": "code",
      "source": [
        "matrix = [[random.randint(1, 100) for _ in range(10)] for _ in range(10)]\n",
        "%timeit most_value(matrix)"
      ],
      "metadata": {
        "colab": {
          "base_uri": "https://localhost:8080/"
        },
        "id": "GrpGfO0yS6D-",
        "outputId": "88a03861-2360-4d7e-d6c5-923d69f8fff0"
      },
      "execution_count": null,
      "outputs": [
        {
          "output_type": "stream",
          "name": "stdout",
          "text": [
            "22.2 µs ± 1.37 µs per loop (mean ± std. dev. of 7 runs, 10000 loops each)\n"
          ]
        }
      ]
    },
    {
      "cell_type": "code",
      "source": [
        "matrix = [[random.randint(1, 100) for _ in range(100)] for _ in range(100)]\n",
        "%timeit most_value(matrix)"
      ],
      "metadata": {
        "colab": {
          "base_uri": "https://localhost:8080/"
        },
        "id": "l4nz7qMLTA1e",
        "outputId": "62ae2180-2e77-4f02-b0a5-6f3f7e2d4bc0"
      },
      "execution_count": null,
      "outputs": [
        {
          "output_type": "stream",
          "name": "stdout",
          "text": [
            "565 µs ± 51.5 µs per loop (mean ± std. dev. of 7 runs, 1000 loops each)\n"
          ]
        }
      ]
    },
    {
      "cell_type": "code",
      "source": [
        "matrix = [[random.randint(1, 100) for _ in range(500)] for _ in range(500)]\n",
        "%timeit most_value(matrix)"
      ],
      "metadata": {
        "colab": {
          "base_uri": "https://localhost:8080/"
        },
        "id": "FipNOjOzTFLp",
        "outputId": "74c3e6f5-e6a5-47ed-e484-47889801c57b"
      },
      "execution_count": null,
      "outputs": [
        {
          "output_type": "stream",
          "name": "stdout",
          "text": [
            "20.7 ms ± 5.98 ms per loop (mean ± std. dev. of 7 runs, 100 loops each)\n"
          ]
        }
      ]
    },
    {
      "cell_type": "markdown",
      "source": [
        "Теперь узнаем время выполнения индвидуального задания с использованием готовой реализации алгоритма из библиотеки `NumPy`"
      ],
      "metadata": {
        "id": "0_LSNxEhGWiA"
      }
    },
    {
      "cell_type": "code",
      "source": [
        "import numpy as np"
      ],
      "metadata": {
        "id": "0R9lq0bIGik4"
      },
      "execution_count": null,
      "outputs": []
    },
    {
      "cell_type": "code",
      "source": [
        "def np_most_value(matrix):\n",
        "  matrix_rvl = matrix.ravel()\n",
        "  el, cnt = np.unique(matrix_rvl, return_counts=True)\n",
        "  max_cnt = np.max(cnt)\n",
        "  repeat = el[cnt == max_cnt]\n",
        "  return repeat[0] if len(repeat) == 1 else repeat"
      ],
      "metadata": {
        "id": "QGgX2HIEI2fb"
      },
      "execution_count": null,
      "outputs": []
    },
    {
      "cell_type": "code",
      "source": [
        "matrix = np.random.randint(1, 100, (10, 10))\n",
        "%timeit np_most_value(matrix)"
      ],
      "metadata": {
        "colab": {
          "base_uri": "https://localhost:8080/"
        },
        "id": "NmC8dpV4TKNI",
        "outputId": "9d6b8f11-8fde-4af3-8e5a-3700d7c97612"
      },
      "execution_count": null,
      "outputs": [
        {
          "output_type": "stream",
          "name": "stdout",
          "text": [
            "44.5 µs ± 10.6 µs per loop (mean ± std. dev. of 7 runs, 10000 loops each)\n"
          ]
        }
      ]
    },
    {
      "cell_type": "code",
      "source": [
        "matrix = np.random.randint(1, 100, (100, 100))\n",
        "%timeit np_most_value(matrix)"
      ],
      "metadata": {
        "colab": {
          "base_uri": "https://localhost:8080/"
        },
        "id": "q1_LvemSTQkY",
        "outputId": "7d4f85c9-90fd-44e6-9474-d02de930d6ef"
      },
      "execution_count": null,
      "outputs": [
        {
          "output_type": "stream",
          "name": "stdout",
          "text": [
            "161 µs ± 51.9 µs per loop (mean ± std. dev. of 7 runs, 10000 loops each)\n"
          ]
        }
      ]
    },
    {
      "cell_type": "code",
      "source": [
        "matrix = np.random.randint(1, 100, (500, 500))\n",
        "%timeit np_most_value(matrix)"
      ],
      "metadata": {
        "colab": {
          "base_uri": "https://localhost:8080/"
        },
        "id": "wY4jZH81TS7F",
        "outputId": "ec51bf01-4b08-448a-b65f-c82f97ee340a"
      },
      "execution_count": null,
      "outputs": [
        {
          "output_type": "stream",
          "name": "stdout",
          "text": [
            "2.85 ms ± 926 µs per loop (mean ± std. dev. of 7 runs, 100 loops each)\n"
          ]
        }
      ]
    },
    {
      "cell_type": "markdown",
      "source": [
        "Теперь проанализируем результаты и сравним время выполнения функций `most_value` и `np_most_value`:"
      ],
      "metadata": {
        "id": "OXsCHUxLL5o-"
      }
    },
    {
      "cell_type": "markdown",
      "source": [
        "Рассмотрим результаты, когда имеется матрица $10 × 10$:"
      ],
      "metadata": {
        "id": "PO6FmDAWMS6W"
      }
    },
    {
      "cell_type": "markdown",
      "source": [
        "Функция `np_most_value` $44.5 µs µs ÷ 22.2 µs ≈ 2 $ раза медленнее выполняется. Это обусловлено тем, что `NumPy`на маленьких данных подготовительные действия библиотеки (проверка типа данных, выделить память под массивы, запускает оптимизированные функции) занимают больше времени, чем работа алгоритма. Игра не стоит свеч, поэтому на маленьких данных лучше использовать методы из встроенных библиотек."
      ],
      "metadata": {
        "id": "wvOl42t_Mf8o"
      }
    },
    {
      "cell_type": "markdown",
      "source": [
        "Рассмотрим результаты, когда имеется матрица $100 × 100$:"
      ],
      "metadata": {
        "id": "XdPJOsfoPK5O"
      }
    },
    {
      "cell_type": "markdown",
      "source": [
        "`NumPy` в $565 µs ÷ 161 µs ≈ 3.5$ раз быстрее стандартных модулей Python. Мы начинаем видеть преимущества использования библиотеки NumPy."
      ],
      "metadata": {
        "id": "2e1eG-PHPKoM"
      }
    },
    {
      "cell_type": "markdown",
      "source": [
        "Рассмотрим результаты, когда имеется матрица $500 × 500$:"
      ],
      "metadata": {
        "id": "EzVpQiFUQH-R"
      }
    },
    {
      "cell_type": "markdown",
      "source": [
        "NumPy выполняется в $20.7 ms÷2.85 ms≈ 7.3$ раз быстрее."
      ],
      "metadata": {
        "id": "AzDcX-uEQfXT"
      }
    }
  ]
}