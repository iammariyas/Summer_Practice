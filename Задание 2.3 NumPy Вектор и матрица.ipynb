{
  "nbformat": 4,
  "nbformat_minor": 0,
  "metadata": {
    "colab": {
      "provenance": [],
      "authorship_tag": "ABX9TyP1ggG+Q+n0haIADainp1IB",
      "include_colab_link": true
    },
    "kernelspec": {
      "name": "python3",
      "display_name": "Python 3"
    },
    "language_info": {
      "name": "python"
    }
  },
  "cells": [
    {
      "cell_type": "markdown",
      "metadata": {
        "id": "view-in-github",
        "colab_type": "text"
      },
      "source": [
        "<a href=\"https://colab.research.google.com/github/iammariyas/Summer_Practice/blob/main/%D0%97%D0%B0%D0%B4%D0%B0%D0%BD%D0%B8%D0%B5%202.3%20NumPy%20%D0%92%D0%B5%D0%BA%D1%82%D0%BE%D1%80%20%D0%B8%20%D0%BC%D0%B0%D1%82%D1%80%D0%B8%D1%86%D0%B0.ipynb\" target=\"_parent\"><img src=\"https://colab.research.google.com/assets/colab-badge.svg\" alt=\"Open In Colab\"/></a>"
      ]
    },
    {
      "cell_type": "markdown",
      "source": [
        "# Задание 2.3 NumPy Вектор и матрица\n",
        "## Вариант 21"
      ],
      "metadata": {
        "id": "gK6bJDoDjZzQ"
      }
    },
    {
      "cell_type": "markdown",
      "source": [
        "21. Дан вектор $𝑥$ и матрица $𝐴$. Умножить все нечетные строки матрицы $𝐴$ на вектор $𝑥$ в обратном порядке. Результат записать в новую матрицу и найти сумму ее элементов."
      ],
      "metadata": {
        "id": "tP9kHZS520Fr"
      }
    },
    {
      "cell_type": "markdown",
      "source": [
        "* **Примечание 1**. Считать, что размерности вектора и матрицы соответствуют выполняемым операциям.\n",
        "\n",
        "* **Примечание 2**. Фраза умножение в обратном порядке означает, что умножение происходит по правилу: последний элемент строки на первый элемент вектора, …, первый элемент строки на последний элемент вектора."
      ],
      "metadata": {
        "id": "iyQXmwfd2_a7"
      }
    },
    {
      "cell_type": "code",
      "source": [
        "import numpy as np"
      ],
      "metadata": {
        "id": "g72trsDo4iwc"
      },
      "execution_count": null,
      "outputs": []
    },
    {
      "cell_type": "code",
      "execution_count": null,
      "metadata": {
        "colab": {
          "base_uri": "https://localhost:8080/"
        },
        "id": "m7cBNEkr2vQm",
        "outputId": "6f1dd1dd-778e-432a-f673-ca5d6d56bfdc"
      },
      "outputs": [
        {
          "output_type": "execute_result",
          "data": {
            "text/plain": [
              "array([[17, 66, 25],\n",
              "       [95, 66, 23],\n",
              "       [52, 42, 57],\n",
              "       [34, 77, 48]])"
            ]
          },
          "metadata": {},
          "execution_count": 3
        }
      ],
      "source": [
        "A = np.random.randint(0, 100, (4, 3))\n",
        "A"
      ]
    },
    {
      "cell_type": "code",
      "source": [
        "x = np.random.randint(-100, 100, 3)\n",
        "new_x = x[::-1]\n",
        "new_x"
      ],
      "metadata": {
        "colab": {
          "base_uri": "https://localhost:8080/"
        },
        "id": "X8PyiIYD4nRj",
        "outputId": "6809bef3-9a4f-4fae-cc6b-9fa2ce139c8f"
      },
      "execution_count": null,
      "outputs": [
        {
          "output_type": "execute_result",
          "data": {
            "text/plain": [
              "array([-37,  85, -74])"
            ]
          },
          "metadata": {},
          "execution_count": 51
        }
      ]
    },
    {
      "cell_type": "code",
      "source": [
        "new_A = A[1::2, :] * new_x\n",
        "new_A"
      ],
      "metadata": {
        "colab": {
          "base_uri": "https://localhost:8080/"
        },
        "id": "Lgp01kkU8vbe",
        "outputId": "53ddfdfd-7470-4483-e0af-8cdcf70fec95"
      },
      "execution_count": null,
      "outputs": [
        {
          "output_type": "execute_result",
          "data": {
            "text/plain": [
              "array([[-3515,  5610, -1702],\n",
              "       [-1258,  6545, -3552]])"
            ]
          },
          "metadata": {},
          "execution_count": 52
        }
      ]
    },
    {
      "cell_type": "code",
      "source": [
        "np.sum(new_A)"
      ],
      "metadata": {
        "colab": {
          "base_uri": "https://localhost:8080/"
        },
        "id": "MRQ7YFYx_Aeq",
        "outputId": "c1e718eb-3550-4948-cc19-32201da4460e"
      },
      "execution_count": null,
      "outputs": [
        {
          "output_type": "execute_result",
          "data": {
            "text/plain": [
              "np.int64(2128)"
            ]
          },
          "metadata": {},
          "execution_count": 53
        }
      ]
    }
  ]
}