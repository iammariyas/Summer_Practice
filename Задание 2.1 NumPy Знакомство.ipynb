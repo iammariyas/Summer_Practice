{
  "nbformat": 4,
  "nbformat_minor": 0,
  "metadata": {
    "colab": {
      "provenance": [],
      "authorship_tag": "ABX9TyMnRoUmizmjMTqz86aWmox5",
      "include_colab_link": true
    },
    "kernelspec": {
      "name": "python3",
      "display_name": "Python 3"
    },
    "language_info": {
      "name": "python"
    }
  },
  "cells": [
    {
      "cell_type": "markdown",
      "metadata": {
        "id": "view-in-github",
        "colab_type": "text"
      },
      "source": [
        "<a href=\"https://colab.research.google.com/github/iammariyas/Summer_Practice/blob/main/%D0%97%D0%B0%D0%B4%D0%B0%D0%BD%D0%B8%D0%B5%202.1%20NumPy%20%D0%97%D0%BD%D0%B0%D0%BA%D0%BE%D0%BC%D1%81%D1%82%D0%B2%D0%BE.ipynb\" target=\"_parent\"><img src=\"https://colab.research.google.com/assets/colab-badge.svg\" alt=\"Open In Colab\"/></a>"
      ]
    },
    {
      "cell_type": "markdown",
      "source": [
        "# Задание 2.1 NumPy Знакомство"
      ],
      "metadata": {
        "id": "HPRMlhDb1Acx"
      }
    },
    {
      "cell_type": "markdown",
      "source": [
        "## 23 вариант"
      ],
      "metadata": {
        "id": "P3OyG-cJ1Eq5"
      }
    },
    {
      "cell_type": "code",
      "source": [
        "import numpy as np"
      ],
      "metadata": {
        "id": "nNTUUNwj1Eeu"
      },
      "execution_count": null,
      "outputs": []
    },
    {
      "cell_type": "markdown",
      "source": [
        "### 1.       Сгенерировать матрицу размером $12 × 6$, заполненную целыми числами."
      ],
      "metadata": {
        "id": "mXxYySJF1buZ"
      }
    },
    {
      "cell_type": "code",
      "execution_count": null,
      "metadata": {
        "colab": {
          "base_uri": "https://localhost:8080/"
        },
        "id": "Che2sBco06ar",
        "outputId": "b26b309b-aa92-49f9-8748-9ae5c9facd0a"
      },
      "outputs": [
        {
          "output_type": "execute_result",
          "data": {
            "text/plain": [
              "array([[ 625, 1005,  175,  253,  956,  992],\n",
              "       [ 319,  302,   39,  278,  648,  504],\n",
              "       [ 778,  439,  512,  922,  826,  847],\n",
              "       [ 844,  811,  266,  586,  123,  210],\n",
              "       [ 576,  936,  583,   69,  361,  898],\n",
              "       [ 354,  948,  863,   45,   97,  188],\n",
              "       [ 320,  669,  142,  948,  595,  382],\n",
              "       [ 303,  938,  335,  680,  219,  544],\n",
              "       [ 176,  608,   63,   69,  787,  453],\n",
              "       [ 214,  109,  443,  408,  770,  399],\n",
              "       [ 954,  281,  995,  953,   46,  465],\n",
              "       [ 806,   90,  730,  866,  404,  610]])"
            ]
          },
          "metadata": {},
          "execution_count": 17
        }
      ],
      "source": [
        "matrix = np.random.randint(0, 1024, (12, 6))\n",
        "matrix"
      ]
    },
    {
      "cell_type": "markdown",
      "source": [
        "### 2.       Вывести на экран элемент с индексами $[7, 5]$."
      ],
      "metadata": {
        "id": "5bTUrOsN2WLe"
      }
    },
    {
      "cell_type": "code",
      "source": [
        "matrix[7, 5]"
      ],
      "metadata": {
        "colab": {
          "base_uri": "https://localhost:8080/"
        },
        "id": "Zk3m4Jr_2V0F",
        "outputId": "6378a2db-a008-4f60-8eb8-715897486018"
      },
      "execution_count": null,
      "outputs": [
        {
          "output_type": "execute_result",
          "data": {
            "text/plain": [
              "np.int64(544)"
            ]
          },
          "metadata": {},
          "execution_count": 18
        }
      ]
    },
    {
      "cell_type": "markdown",
      "source": [
        "### 3.       Вывести на экран четвертую строку матрицы."
      ],
      "metadata": {
        "id": "0pRpBgOn4fMn"
      }
    },
    {
      "cell_type": "code",
      "source": [
        "matrix[4]"
      ],
      "metadata": {
        "colab": {
          "base_uri": "https://localhost:8080/"
        },
        "id": "yJzP86ra4epf",
        "outputId": "fbe6a851-55cb-4d02-9641-9226460fbb0b"
      },
      "execution_count": null,
      "outputs": [
        {
          "output_type": "execute_result",
          "data": {
            "text/plain": [
              "array([576, 936, 583,  69, 361, 898])"
            ]
          },
          "metadata": {},
          "execution_count": 19
        }
      ]
    },
    {
      "cell_type": "markdown",
      "source": [
        "### 4.       Вывести на экран предпоследний столбец матрицы в обратном порядке."
      ],
      "metadata": {
        "id": "HspXoFHc4pn-"
      }
    },
    {
      "cell_type": "code",
      "source": [
        "matrix[::-1, -2]"
      ],
      "metadata": {
        "colab": {
          "base_uri": "https://localhost:8080/"
        },
        "id": "u_YjtefA4tWK",
        "outputId": "91413f70-c576-4cb9-81dc-c228875d26b2"
      },
      "execution_count": null,
      "outputs": [
        {
          "output_type": "execute_result",
          "data": {
            "text/plain": [
              "array([404,  46, 770, 787, 219, 595,  97, 361, 123, 826, 648, 956])"
            ]
          },
          "metadata": {},
          "execution_count": 20
        }
      ]
    },
    {
      "cell_type": "markdown",
      "source": [
        "### 5.       Изменить форму матрицы с $12 × 6$ на $6 × 12$."
      ],
      "metadata": {
        "id": "ugV9_SIG7enB"
      }
    },
    {
      "cell_type": "markdown",
      "source": [
        "Данное задание можно решить двумя способами:\n",
        "1. Транспонирование матрицы:"
      ],
      "metadata": {
        "id": "oo7obN6dGtVU"
      }
    },
    {
      "cell_type": "code",
      "source": [
        "matrix.T"
      ],
      "metadata": {
        "colab": {
          "base_uri": "https://localhost:8080/"
        },
        "id": "WcloxXiO7krX",
        "outputId": "2562faee-0fd6-4d72-8b92-7db88ad012c4"
      },
      "execution_count": null,
      "outputs": [
        {
          "output_type": "execute_result",
          "data": {
            "text/plain": [
              "array([[ 625,  319,  778,  844,  576,  354,  320,  303,  176,  214,  954,\n",
              "         806],\n",
              "       [1005,  302,  439,  811,  936,  948,  669,  938,  608,  109,  281,\n",
              "          90],\n",
              "       [ 175,   39,  512,  266,  583,  863,  142,  335,   63,  443,  995,\n",
              "         730],\n",
              "       [ 253,  278,  922,  586,   69,   45,  948,  680,   69,  408,  953,\n",
              "         866],\n",
              "       [ 956,  648,  826,  123,  361,   97,  595,  219,  787,  770,   46,\n",
              "         404],\n",
              "       [ 992,  504,  847,  210,  898,  188,  382,  544,  453,  399,  465,\n",
              "         610]])"
            ]
          },
          "metadata": {},
          "execution_count": 21
        }
      ]
    },
    {
      "cell_type": "markdown",
      "source": [
        "2. Метод `reshape`"
      ],
      "metadata": {
        "id": "GdIV-2_-G5qV"
      }
    },
    {
      "cell_type": "code",
      "source": [
        "matrix.reshape(6, 12)"
      ],
      "metadata": {
        "colab": {
          "base_uri": "https://localhost:8080/"
        },
        "id": "dRMnCJkKG-e5",
        "outputId": "bcabf8f4-a9db-4203-aaf6-162f0abaad6e"
      },
      "execution_count": null,
      "outputs": [
        {
          "output_type": "execute_result",
          "data": {
            "text/plain": [
              "array([[ 625, 1005,  175,  253,  956,  992,  319,  302,   39,  278,  648,\n",
              "         504],\n",
              "       [ 778,  439,  512,  922,  826,  847,  844,  811,  266,  586,  123,\n",
              "         210],\n",
              "       [ 576,  936,  583,   69,  361,  898,  354,  948,  863,   45,   97,\n",
              "         188],\n",
              "       [ 320,  669,  142,  948,  595,  382,  303,  938,  335,  680,  219,\n",
              "         544],\n",
              "       [ 176,  608,   63,   69,  787,  453,  214,  109,  443,  408,  770,\n",
              "         399],\n",
              "       [ 954,  281,  995,  953,   46,  465,  806,   90,  730,  866,  404,\n",
              "         610]])"
            ]
          },
          "metadata": {},
          "execution_count": 22
        }
      ]
    },
    {
      "cell_type": "markdown",
      "source": [
        "### 6.       Разделить каждый элемент матрицы на заданное число."
      ],
      "metadata": {
        "id": "gjPxhcBE73oD"
      }
    },
    {
      "cell_type": "code",
      "source": [
        "n = int(input('Задайте число: '))\n",
        "matrix / n"
      ],
      "metadata": {
        "colab": {
          "base_uri": "https://localhost:8080/"
        },
        "id": "Nn5HaKhR742z",
        "outputId": "8b976499-0a09-479e-cd92-3685694b6ac7"
      },
      "execution_count": null,
      "outputs": [
        {
          "name": "stdout",
          "output_type": "stream",
          "text": [
            "Задайте число: 2\n"
          ]
        },
        {
          "output_type": "execute_result",
          "data": {
            "text/plain": [
              "array([[312.5, 502.5,  87.5, 126.5, 478. , 496. ],\n",
              "       [159.5, 151. ,  19.5, 139. , 324. , 252. ],\n",
              "       [389. , 219.5, 256. , 461. , 413. , 423.5],\n",
              "       [422. , 405.5, 133. , 293. ,  61.5, 105. ],\n",
              "       [288. , 468. , 291.5,  34.5, 180.5, 449. ],\n",
              "       [177. , 474. , 431.5,  22.5,  48.5,  94. ],\n",
              "       [160. , 334.5,  71. , 474. , 297.5, 191. ],\n",
              "       [151.5, 469. , 167.5, 340. , 109.5, 272. ],\n",
              "       [ 88. , 304. ,  31.5,  34.5, 393.5, 226.5],\n",
              "       [107. ,  54.5, 221.5, 204. , 385. , 199.5],\n",
              "       [477. , 140.5, 497.5, 476.5,  23. , 232.5],\n",
              "       [403. ,  45. , 365. , 433. , 202. , 305. ]])"
            ]
          },
          "metadata": {},
          "execution_count": 23
        }
      ]
    },
    {
      "cell_type": "markdown",
      "source": [
        "### 7.       Найти максимум в каждой строке."
      ],
      "metadata": {
        "id": "1BE7oUl38Vmh"
      }
    },
    {
      "cell_type": "markdown",
      "source": [
        "Возвратим максимум по заданной оси `axis=1` — строки, а `axis=0` — столбцы"
      ],
      "metadata": {
        "id": "mvgTiGr1HZkh"
      }
    },
    {
      "cell_type": "code",
      "source": [
        "np.max(matrix, axis=1)"
      ],
      "metadata": {
        "colab": {
          "base_uri": "https://localhost:8080/"
        },
        "id": "R7inp7rs8VSG",
        "outputId": "3f6863cc-09bf-4d8d-9097-8471c1a3cc3d"
      },
      "execution_count": null,
      "outputs": [
        {
          "output_type": "execute_result",
          "data": {
            "text/plain": [
              "array([1005,  648,  922,  844,  936,  948,  948,  938,  787,  770,  995,\n",
              "        866])"
            ]
          },
          "metadata": {},
          "execution_count": 24
        }
      ]
    },
    {
      "cell_type": "markdown",
      "source": [
        "### 8.       Найти минимальный элемент на побочной диагонали."
      ],
      "metadata": {
        "id": "YN0Oc6t7-LPL"
      }
    },
    {
      "cell_type": "markdown",
      "source": [
        "Метод `np.fliplr` отражает матрицу по вертикали, метод `np.diagonal` возвращает главную диагональ матрицы"
      ],
      "metadata": {
        "id": "wA9pV-h2H3dv"
      }
    },
    {
      "cell_type": "code",
      "source": [
        "np.min(np.diagonal(np.fliplr(matrix)))"
      ],
      "metadata": {
        "colab": {
          "base_uri": "https://localhost:8080/"
        },
        "id": "RNsVp7fY-Pb7",
        "outputId": "1a7ddb63-1ee6-493f-aaf5-215c66f5495c"
      },
      "execution_count": null,
      "outputs": [
        {
          "output_type": "execute_result",
          "data": {
            "text/plain": [
              "np.int64(266)"
            ]
          },
          "metadata": {},
          "execution_count": 25
        }
      ]
    },
    {
      "cell_type": "markdown",
      "source": [
        "### 9.       Дан одномерный массив. Определить процент четных и нечетных чисел."
      ],
      "metadata": {
        "id": "iEr3uq_zAUcd"
      }
    },
    {
      "cell_type": "code",
      "source": [
        "m = np.random.randint(0, 100, 30)\n",
        "m"
      ],
      "metadata": {
        "colab": {
          "base_uri": "https://localhost:8080/"
        },
        "id": "c6iRwOgKAmo9",
        "outputId": "b7bd6641-377c-41e3-dfbf-e5db61e6c9bc"
      },
      "execution_count": null,
      "outputs": [
        {
          "output_type": "execute_result",
          "data": {
            "text/plain": [
              "array([24, 28, 51, 92,  1, 59, 65, 34, 85, 89, 28, 42, 34, 85, 48, 96, 52,\n",
              "       28,  3, 72, 48,  8, 32, 83, 59, 78, 34, 90, 18, 42])"
            ]
          },
          "metadata": {},
          "execution_count": 39
        }
      ]
    },
    {
      "cell_type": "markdown",
      "source": [
        "Подсчитаем количество четных и нечетных элементов в массиве:"
      ],
      "metadata": {
        "id": "dJZoBtLcBjVS"
      }
    },
    {
      "cell_type": "code",
      "source": [
        "even_num = np.sum(m % 2 == 0)\n",
        "odd_num = len(m) - even_num"
      ],
      "metadata": {
        "id": "YfLRe5HOBXkz"
      },
      "execution_count": null,
      "outputs": []
    },
    {
      "cell_type": "markdown",
      "source": [
        "Вычислим процент четных и нечетных элементов в массиве:"
      ],
      "metadata": {
        "id": "KmulgHc6Cs3s"
      }
    },
    {
      "cell_type": "code",
      "source": [
        "f'Процент четных элементов в массиве: {(100 * even_num / len(m)):.2f}'"
      ],
      "metadata": {
        "colab": {
          "base_uri": "https://localhost:8080/",
          "height": 35
        },
        "id": "L-r-L7NYCsMf",
        "outputId": "f76e76b4-f9d4-4604-9d5e-56ad354b2301"
      },
      "execution_count": null,
      "outputs": [
        {
          "output_type": "execute_result",
          "data": {
            "text/plain": [
              "'Процент четных элементов в массиве: 66.67'"
            ],
            "application/vnd.google.colaboratory.intrinsic+json": {
              "type": "string"
            }
          },
          "metadata": {},
          "execution_count": 42
        }
      ]
    },
    {
      "cell_type": "code",
      "source": [],
      "metadata": {
        "id": "qysF5USlN2kl"
      },
      "execution_count": null,
      "outputs": []
    },
    {
      "cell_type": "code",
      "source": [
        "f'Процент нечетных элементов в массиве: {(100 * odd_num / len(m)):.2f}'"
      ],
      "metadata": {
        "colab": {
          "base_uri": "https://localhost:8080/",
          "height": 35
        },
        "id": "w0bqUmYWDVb9",
        "outputId": "ed6ac2cc-869d-40c3-f265-8fff715e93b1"
      },
      "execution_count": null,
      "outputs": [
        {
          "output_type": "execute_result",
          "data": {
            "text/plain": [
              "'Процент нечетных элементов в массиве: 33.33'"
            ],
            "application/vnd.google.colaboratory.intrinsic+json": {
              "type": "string"
            }
          },
          "metadata": {},
          "execution_count": 43
        }
      ]
    },
    {
      "cell_type": "markdown",
      "source": [
        "### 10.   В заданной матрице подсчитать количество двузначных чисел."
      ],
      "metadata": {
        "id": "6dddF4mDEdbd"
      }
    },
    {
      "cell_type": "markdown",
      "source": [
        "Зададим матрицу, с которым мы будем работать в дальнейшем:"
      ],
      "metadata": {
        "id": "Bta3WeN8FKYG"
      }
    },
    {
      "cell_type": "code",
      "source": [
        "'Задайте размер матрицы'\n",
        "n, m = map(int, input().split())\n",
        "mtrx = np.random.randint(0, 1024, (n, m))\n",
        "mtrx"
      ],
      "metadata": {
        "colab": {
          "base_uri": "https://localhost:8080/"
        },
        "id": "5psFgyMyEgAd",
        "outputId": "44a92550-6a32-46d8-cd3f-3af715df26b7"
      },
      "execution_count": null,
      "outputs": [
        {
          "name": "stdout",
          "output_type": "stream",
          "text": [
            "5 6\n"
          ]
        },
        {
          "output_type": "execute_result",
          "data": {
            "text/plain": [
              "array([[869, 500, 354, 733, 512, 981],\n",
              "       [272, 202, 320, 333, 307,  62],\n",
              "       [794, 319, 546, 381,  99, 309],\n",
              "       [170, 295, 903, 486, 346, 894],\n",
              "       [811, 766, 674, 588, 351, 227]])"
            ]
          },
          "metadata": {},
          "execution_count": 30
        }
      ]
    },
    {
      "cell_type": "code",
      "source": [
        "f'Количество двузначных чисел: {np.sum((mtrx >= 10) & (mtrx <= 99))}'"
      ],
      "metadata": {
        "colab": {
          "base_uri": "https://localhost:8080/",
          "height": 35
        },
        "id": "_MzDOOKfFebl",
        "outputId": "59c0b6d2-84f4-4e72-977b-86744b3a0f25"
      },
      "execution_count": null,
      "outputs": [
        {
          "output_type": "execute_result",
          "data": {
            "text/plain": [
              "'Количество двузначных чисел: 2'"
            ],
            "application/vnd.google.colaboratory.intrinsic+json": {
              "type": "string"
            }
          },
          "metadata": {},
          "execution_count": 31
        }
      ]
    }
  ]
}